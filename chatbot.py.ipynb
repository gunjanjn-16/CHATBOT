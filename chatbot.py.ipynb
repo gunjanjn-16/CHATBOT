{
 "cells": [
  {
   "cell_type": "code",
   "execution_count": 1,
   "id": "c25d78ae",
   "metadata": {},
   "outputs": [
    {
     "name": "stdout",
     "output_type": "stream",
     "text": [
      "Requirement already satisfied: nltk in c:\\users\\hp\\.conda\\lib\\site-packages (3.8.1)Note: you may need to restart the kernel to use updated packages.\n",
      "\n",
      "Requirement already satisfied: click in c:\\users\\hp\\.conda\\lib\\site-packages (from nltk) (8.0.4)\n",
      "Requirement already satisfied: joblib in c:\\users\\hp\\.conda\\lib\\site-packages (from nltk) (1.2.0)\n",
      "Requirement already satisfied: regex>=2021.8.3 in c:\\users\\hp\\.conda\\lib\\site-packages (from nltk) (2022.7.9)\n",
      "Requirement already satisfied: tqdm in c:\\users\\hp\\.conda\\lib\\site-packages (from nltk) (4.65.0)\n",
      "Requirement already satisfied: colorama in c:\\users\\hp\\.conda\\lib\\site-packages (from click->nltk) (0.4.6)\n"
     ]
    }
   ],
   "source": [
    "pip install nltk"
   ]
  },
  {
   "cell_type": "code",
   "execution_count": 2,
   "id": "24f15edf",
   "metadata": {},
   "outputs": [
    {
     "name": "stderr",
     "output_type": "stream",
     "text": [
      "[nltk_data] Downloading package punkt to\n",
      "[nltk_data]     C:\\Users\\hp\\AppData\\Roaming\\nltk_data...\n",
      "[nltk_data]   Package punkt is already up-to-date!\n"
     ]
    }
   ],
   "source": [
    "import nltk\n",
    "nltk.download('punkt')\n",
    "import random\n",
    "import string\n",
    "import numpy as np\n",
    "import pandas as pd\n",
    "from nltk.stem import WordNetLemmatizer"
   ]
  },
  {
   "cell_type": "code",
   "execution_count": 3,
   "id": "5259d5b1",
   "metadata": {},
   "outputs": [],
   "source": [
    "with open('chatbot.txt', 'r', errors='ignore') as file:\n",
    "    raw = file.read().lower()\n",
    "    \n",
    "sent_tokens = nltk.sent_tokenize(raw)\n",
    "word_tokens = nltk.word_tokenize(raw)"
   ]
  },
  {
   "cell_type": "code",
   "execution_count": 4,
   "id": "6944ea77",
   "metadata": {},
   "outputs": [
    {
     "name": "stdout",
     "output_type": "stream",
     "text": [
      "['C:\\\\Users\\\\hp/nltk_data', 'C:\\\\Users\\\\hp\\\\.conda\\\\nltk_data', 'C:\\\\Users\\\\hp\\\\.conda\\\\share\\\\nltk_data', 'C:\\\\Users\\\\hp\\\\.conda\\\\lib\\\\nltk_data', 'C:\\\\Users\\\\hp\\\\AppData\\\\Roaming\\\\nltk_data', 'C:\\\\nltk_data', 'D:\\\\nltk_data', 'E:\\\\nltk_data']\n"
     ]
    }
   ],
   "source": [
    "import nltk\n",
    "print(nltk.data.path)"
   ]
  },
  {
   "cell_type": "code",
   "execution_count": 5,
   "id": "cc9a14e2",
   "metadata": {},
   "outputs": [],
   "source": [
    "import nltk\n",
    "nltk.data.path.append('C:\\\\Users\\\\hp/nltk_data')"
   ]
  },
  {
   "cell_type": "code",
   "execution_count": 6,
   "id": "a91461ca",
   "metadata": {},
   "outputs": [],
   "source": [
    "lemmer = WordNetLemmatizer()\n",
    "\n",
    "def LemNormalize(text):\n",
    "    remove_punct_dict = dict((ord(punct), None) for punct in string.punctuation)\n",
    "    return [lemmer.lemmatize(token) for token in nltk.word_tokenize(text.lower().translate(remove_punct_dict))]"
   ]
  },
  {
   "cell_type": "code",
   "execution_count": 7,
   "id": "c1d41fed",
   "metadata": {},
   "outputs": [],
   "source": [
    "patterns = [\n",
    "    (r'hi|hello|hey', ['Hello!', 'Hi there!']),\n",
    "    (r'bye|goodbye', ['Goodbye!', 'See you later!']),\n",
    "    (r'(\\w+)', ['Yes, go on.', 'Tell me more.']),\n",
    "    (r'(\\?)', ['I am not sure how to answer that.'])\n",
    "]"
   ]
  },
  {
   "cell_type": "code",
   "execution_count": 8,
   "id": "5b24d149",
   "metadata": {},
   "outputs": [],
   "source": [
    "def generate_response(user_input):\n",
    "    for pattern, responses in patterns:\n",
    "        if nltk.re.match(pattern, user_input):\n",
    "            return random.choice(responses)\n",
    "    return \"I didn't understand that.\""
   ]
  },
  {
   "cell_type": "code",
   "execution_count": null,
   "id": "7e572537",
   "metadata": {},
   "outputs": [],
   "source": [
    "while True:\n",
    "    user_input = input(\"You: \")\n",
    "    if user_input.lower() in ['bye', 'goodbye']:\n",
    "        print(\"Chatbot: Goodbye!\")\n",
    "        break\n",
    "    response = generate_response(user_input)\n",
    "    print(\"Chatbot:\", response)"
   ]
  },
  {
   "cell_type": "code",
   "execution_count": null,
   "id": "39edf21b",
   "metadata": {},
   "outputs": [],
   "source": [
    "import sqlite3\n",
    "\n",
    "# Connect to database\n",
    "conn = sqlite3.connect('chatbot.db')\n",
    "c = conn.cursor()\n",
    "\n",
    "# Create table\n",
    "c.execute('''CREATE TABLE IF NOT EXISTS interactions (user_input TEXT, bot_response TEXT)''')\n",
    "\n",
    "# Create the table\n",
    "c.execute('''\n",
    "CREATE TABLE IF NOT EXISTS interactions (\n",
    "    id INTEGER PRIMARY KEY AUTOINCREMENT,\n",
    "    user_input TEXT,\n",
    "    bot_response TEXT,\n",
    "    timestamp DATETIME DEFAULT CURRENT_TIMESTAMP\n",
    ");\n",
    "''')\n",
    "\n",
    "# Insert data\n",
    "c.execute(\"INSERT INTO interactions (user_input, bot_response) VALUES (?, ?)\", ('Hello!', 'Hi there!'))\n",
    "conn.commit()\n",
    "\n",
    "# Select all data\n",
    "c.execute(\"SELECT * FROM interactions\")\n",
    "rows = c.fetchall()\n",
    "for row in rows:\n",
    "    print(row)\n",
    "\n",
    "# Update data\n",
    "c.execute(\"UPDATE interactions SET bot_response = ? WHERE user_input = ?\", ('Hello! How can I assist you today?', 'Hello!'))\n",
    "conn.commit()\n",
    "\n",
    "# Delete data\n",
    "c.execute(\"DELETE FROM interactions WHERE user_input = ?\", ('bye',))\n",
    "conn.commit()\n",
    "\n",
    "# Count records\n",
    "c.execute(\"SELECT COUNT(*) FROM interactions\")\n",
    "count = c.fetchone()[0]\n",
    "print(f\"Total interactions: {count}\")\n",
    "\n",
    "# Close the connection\n",
    "conn.close()"
   ]
  },
  {
   "cell_type": "code",
   "execution_count": null,
   "id": "51b75de8",
   "metadata": {},
   "outputs": [],
   "source": []
  }
 ],
 "metadata": {
  "kernelspec": {
   "display_name": "Python 3 (ipykernel)",
   "language": "python",
   "name": "python3"
  },
  "language_info": {
   "codemirror_mode": {
    "name": "ipython",
    "version": 3
   },
   "file_extension": ".py",
   "mimetype": "text/x-python",
   "name": "python",
   "nbconvert_exporter": "python",
   "pygments_lexer": "ipython3",
   "version": "3.11.4"
  }
 },
 "nbformat": 4,
 "nbformat_minor": 5
}
